{
  "nbformat": 4,
  "nbformat_minor": 0,
  "metadata": {
    "colab": {
      "name": "AutoEncoders.ipynb",
      "provenance": [],
      "collapsed_sections": [],
      "toc_visible": true
    },
    "kernelspec": {
      "name": "python3",
      "display_name": "Python 3"
    },
    "accelerator": "GPU"
  },
  "cells": [
    {
      "cell_type": "markdown",
      "metadata": {
        "id": "K4f4JG1gdKqj"
      },
      "source": [
        "#AutoEncoders"
      ]
    },
    {
      "cell_type": "markdown",
      "metadata": {
        "id": "1jbiqOK7dLGG"
      },
      "source": [
        "##Downloading the dataset"
      ]
    },
    {
      "cell_type": "markdown",
      "metadata": {
        "id": "XL5MEkLcfRD2"
      },
      "source": [
        "###ML-100K"
      ]
    },
    {
      "cell_type": "code",
      "metadata": {
        "id": "rjOPzue7FCXJ",
        "outputId": "3f442758-5933-48a4-a988-fd361f9caef4",
        "colab": {
          "base_uri": "https://localhost:8080/"
        }
      },
      "source": [
        "!wget \"http://files.grouplens.org/datasets/movielens/ml-100k.zip\"\n",
        "!unzip ml-100k.zip\n",
        "!ls"
      ],
      "execution_count": 1,
      "outputs": [
        {
          "output_type": "stream",
          "name": "stdout",
          "text": [
            "--2022-06-24 14:11:00--  http://files.grouplens.org/datasets/movielens/ml-100k.zip\n",
            "Resolving files.grouplens.org (files.grouplens.org)... 128.101.65.152\n",
            "Connecting to files.grouplens.org (files.grouplens.org)|128.101.65.152|:80... connected.\n",
            "HTTP request sent, awaiting response... 200 OK\n",
            "Length: 4924029 (4.7M) [application/zip]\n",
            "Saving to: ‘ml-100k.zip’\n",
            "\n",
            "ml-100k.zip         100%[===================>]   4.70M  24.1MB/s    in 0.2s    \n",
            "\n",
            "2022-06-24 14:11:01 (24.1 MB/s) - ‘ml-100k.zip’ saved [4924029/4924029]\n",
            "\n",
            "Archive:  ml-100k.zip\n",
            "   creating: ml-100k/\n",
            "  inflating: ml-100k/allbut.pl       \n",
            "  inflating: ml-100k/mku.sh          \n",
            "  inflating: ml-100k/README          \n",
            "  inflating: ml-100k/u.data          \n",
            "  inflating: ml-100k/u.genre         \n",
            "  inflating: ml-100k/u.info          \n",
            "  inflating: ml-100k/u.item          \n",
            "  inflating: ml-100k/u.occupation    \n",
            "  inflating: ml-100k/u.user          \n",
            "  inflating: ml-100k/u1.base         \n",
            "  inflating: ml-100k/u1.test         \n",
            "  inflating: ml-100k/u2.base         \n",
            "  inflating: ml-100k/u2.test         \n",
            "  inflating: ml-100k/u3.base         \n",
            "  inflating: ml-100k/u3.test         \n",
            "  inflating: ml-100k/u4.base         \n",
            "  inflating: ml-100k/u4.test         \n",
            "  inflating: ml-100k/u5.base         \n",
            "  inflating: ml-100k/u5.test         \n",
            "  inflating: ml-100k/ua.base         \n",
            "  inflating: ml-100k/ua.test         \n",
            "  inflating: ml-100k/ub.base         \n",
            "  inflating: ml-100k/ub.test         \n",
            "ml-100k  ml-100k.zip  sample_data\n"
          ]
        }
      ]
    },
    {
      "cell_type": "markdown",
      "metadata": {
        "id": "9Xis6ldDfTs6"
      },
      "source": [
        "###ML-1M"
      ]
    },
    {
      "cell_type": "code",
      "metadata": {
        "id": "LOly1yfAfTjd",
        "outputId": "0641f1ea-7626-4646-f065-187aa59aec6b",
        "colab": {
          "base_uri": "https://localhost:8080/"
        }
      },
      "source": [
        "!wget \"http://files.grouplens.org/datasets/movielens/ml-1m.zip\"\n",
        "!unzip ml-1m.zip\n",
        "!ls"
      ],
      "execution_count": 2,
      "outputs": [
        {
          "output_type": "stream",
          "name": "stdout",
          "text": [
            "--2022-06-24 14:11:01--  http://files.grouplens.org/datasets/movielens/ml-1m.zip\n",
            "Resolving files.grouplens.org (files.grouplens.org)... 128.101.65.152\n",
            "Connecting to files.grouplens.org (files.grouplens.org)|128.101.65.152|:80... connected.\n",
            "HTTP request sent, awaiting response... 200 OK\n",
            "Length: 5917549 (5.6M) [application/zip]\n",
            "Saving to: ‘ml-1m.zip’\n",
            "\n",
            "ml-1m.zip           100%[===================>]   5.64M  27.4MB/s    in 0.2s    \n",
            "\n",
            "2022-06-24 14:11:01 (27.4 MB/s) - ‘ml-1m.zip’ saved [5917549/5917549]\n",
            "\n",
            "Archive:  ml-1m.zip\n",
            "   creating: ml-1m/\n",
            "  inflating: ml-1m/movies.dat        \n",
            "  inflating: ml-1m/ratings.dat       \n",
            "  inflating: ml-1m/README            \n",
            "  inflating: ml-1m/users.dat         \n",
            "ml-100k  ml-100k.zip  ml-1m  ml-1m.zip\tsample_data\n"
          ]
        }
      ]
    },
    {
      "cell_type": "markdown",
      "metadata": {
        "id": "EOBJ8UCXdY0g"
      },
      "source": [
        "##Importing the libraries"
      ]
    },
    {
      "cell_type": "code",
      "metadata": {
        "id": "_LvGeU1CeCtg"
      },
      "source": [
        "import numpy as np\n",
        "import pandas as pd\n",
        "import torch\n",
        "import torch.nn as nn\n",
        "import torch.nn.parallel\n",
        "import torch.optim as optim\n",
        "import torch.utils.data\n",
        "from torch.autograd import Variable"
      ],
      "execution_count": 3,
      "outputs": []
    },
    {
      "cell_type": "markdown",
      "metadata": {
        "id": "pM04FyMudkoK"
      },
      "source": [
        "## Importing the dataset\n"
      ]
    },
    {
      "cell_type": "code",
      "metadata": {
        "id": "UJw2p3-Cewo4"
      },
      "source": [
        "# We won't be using this dataset.\n",
        "movies = pd.read_csv('ml-1m/movies.dat', sep = '::', header = None, engine = 'python', encoding = 'latin-1')\n",
        "users = pd.read_csv('ml-1m/users.dat', sep = '::', header = None, engine = 'python', encoding = 'latin-1')\n",
        "ratings = pd.read_csv('ml-1m/ratings.dat', sep = '::', header = None, engine = 'python', encoding = 'latin-1')"
      ],
      "execution_count": 4,
      "outputs": []
    },
    {
      "cell_type": "markdown",
      "metadata": {
        "id": "yTIbE2tkdkwP"
      },
      "source": [
        "## Preparing the training set and the test set\n"
      ]
    },
    {
      "cell_type": "code",
      "metadata": {
        "id": "2usLKJBEgPE2"
      },
      "source": [
        "training_set = pd.read_csv('ml-100k/u1.base', delimiter = '\\t')\n",
        "training_set = np.array(training_set, dtype = 'int')\n",
        "test_set = pd.read_csv('ml-100k/u1.test', delimiter = '\\t')\n",
        "test_set = np.array(test_set, dtype = 'int')"
      ],
      "execution_count": 5,
      "outputs": []
    },
    {
      "cell_type": "markdown",
      "metadata": {
        "id": "zCf8HjSydk4s"
      },
      "source": [
        "## Getting the number of users and movies\n"
      ]
    },
    {
      "cell_type": "code",
      "metadata": {
        "id": "gPaGZqdniC5m"
      },
      "source": [
        "nb_users = int(max(max(training_set[:, 0], ), max(test_set[:, 0])))\n",
        "nb_movies = int(max(max(training_set[:, 1], ), max(test_set[:, 1])))"
      ],
      "execution_count": 6,
      "outputs": []
    },
    {
      "cell_type": "markdown",
      "metadata": {
        "id": "J-w4-hVidlAm"
      },
      "source": [
        "## Converting the data into an array with users in lines and movies in columns\n"
      ]
    },
    {
      "cell_type": "code",
      "metadata": {
        "id": "-wASs2YFiDaa"
      },
      "source": [
        "def convert(data):\n",
        "  new_data = []\n",
        "  for id_users in range(1, nb_users + 1):\n",
        "    id_movies = data[:, 1] [data[:, 0] == id_users]\n",
        "    id_ratings = data[:, 2] [data[:, 0] == id_users]\n",
        "    ratings = np.zeros(nb_movies)\n",
        "    ratings[id_movies - 1] = id_ratings\n",
        "    new_data.append(list(ratings))\n",
        "  return new_data\n",
        "\n",
        "training_set = convert(training_set)\n",
        "test_set = convert(test_set)"
      ],
      "execution_count": 7,
      "outputs": []
    },
    {
      "cell_type": "markdown",
      "metadata": {
        "id": "AMmhuUpldlHo"
      },
      "source": [
        "## Converting the data into Torch tensors\n"
      ]
    },
    {
      "cell_type": "code",
      "metadata": {
        "id": "TwD-KD8yiEEw"
      },
      "source": [
        "training_set = torch.FloatTensor(training_set)\n",
        "test_set = torch.FloatTensor(test_set)"
      ],
      "execution_count": 8,
      "outputs": []
    },
    {
      "cell_type": "markdown",
      "metadata": {
        "id": "6kkL8NkkdlZj"
      },
      "source": [
        "## Creating the architecture of the Neural Network\n"
      ]
    },
    {
      "cell_type": "code",
      "source": [
        "class SAE(nn.Module):\n",
        "  def __init__(self, ):\n",
        "    super(SAE, self).__init__()\n",
        "    self.fc1 = nn.Linear(nb_movies, 20)\n",
        "    self.fc2 = nn.Linear(20, 10)\n",
        "    self.fc3 = nn.Linear(10, 20)\n",
        "    self.fc4 = nn.Linear(20, nb_movies)\n",
        "    self.activation = nn.Sigmoid()\n",
        "  def forward(self, x):\n",
        "    x = self.activation(self.fc1(x))\n",
        "    x = self.activation(self.fc2(x))\n",
        "    x = self.activation(self.fc3(x))\n",
        "    x = self.fc4(x)\n",
        "    return x\n",
        "\n",
        "sae = SAE()\n",
        "criterion = nn.MSELoss()\n",
        "optimizer = optim.RMSprop(sae.parameters(), lr = 0.01, weight_decay = 0.5)"
      ],
      "metadata": {
        "id": "drxGlsn8r3cu"
      },
      "execution_count": 11,
      "outputs": []
    },
    {
      "cell_type": "markdown",
      "metadata": {
        "id": "7gy59alAdloL"
      },
      "source": [
        "## Training the SAE\n"
      ]
    },
    {
      "cell_type": "code",
      "source": [
        "nb_epoch = 200\n",
        "for epoch in range(1, nb_epoch + 1):\n",
        "  train_loss = 0\n",
        "  s = 0.\n",
        "  for id_user in range(nb_users):\n",
        "    input = Variable(training_set[id_user]).unsqueeze(0)\n",
        "    target = input.clone()\n",
        "    if torch.sum(target.data > 0) > 0:\n",
        "      output = sae(input)\n",
        "      target.require_grad = False\n",
        "      output[target == 0] = 0\n",
        "      loss = criterion(output, target)\n",
        "      mean_corrector = nb_movies/float(torch.sum(target.data > 0) + 1e-10)\n",
        "      loss.backward()\n",
        "      train_loss += np.sqrt(loss.data * mean_corrector)\n",
        "      s += 1.\n",
        "      optimizer.step()\n",
        "  print(\"epoch: \" + str(epoch) + \" loss: \" + str(train_loss/s))"
      ],
      "metadata": {
        "colab": {
          "base_uri": "https://localhost:8080/"
        },
        "id": "ercwpn9NER_b",
        "outputId": "abd5cb37-b6a7-4255-f349-905124367721"
      },
      "execution_count": 14,
      "outputs": [
        {
          "output_type": "stream",
          "name": "stdout",
          "text": [
            "epoch: 1 loss: tensor(1.7624)\n",
            "epoch: 2 loss: tensor(1.0964)\n",
            "epoch: 3 loss: tensor(1.0531)\n",
            "epoch: 4 loss: tensor(1.0384)\n",
            "epoch: 5 loss: tensor(1.0308)\n",
            "epoch: 6 loss: tensor(1.0267)\n",
            "epoch: 7 loss: tensor(1.0237)\n",
            "epoch: 8 loss: tensor(1.0219)\n",
            "epoch: 9 loss: tensor(1.0208)\n",
            "epoch: 10 loss: tensor(1.0195)\n",
            "epoch: 11 loss: tensor(1.0189)\n",
            "epoch: 12 loss: tensor(1.0185)\n",
            "epoch: 13 loss: tensor(1.0180)\n",
            "epoch: 14 loss: tensor(1.0175)\n",
            "epoch: 15 loss: tensor(1.0173)\n",
            "epoch: 16 loss: tensor(1.0168)\n",
            "epoch: 17 loss: tensor(1.0165)\n",
            "epoch: 18 loss: tensor(1.0164)\n",
            "epoch: 19 loss: tensor(1.0163)\n",
            "epoch: 20 loss: tensor(1.0165)\n",
            "epoch: 21 loss: tensor(1.0162)\n",
            "epoch: 22 loss: tensor(1.0157)\n",
            "epoch: 23 loss: tensor(1.0158)\n",
            "epoch: 24 loss: tensor(1.0156)\n",
            "epoch: 25 loss: tensor(1.0157)\n",
            "epoch: 26 loss: tensor(1.0155)\n",
            "epoch: 27 loss: tensor(1.0154)\n",
            "epoch: 28 loss: tensor(1.0149)\n",
            "epoch: 29 loss: tensor(1.0126)\n",
            "epoch: 30 loss: tensor(1.0111)\n",
            "epoch: 31 loss: tensor(1.0106)\n",
            "epoch: 32 loss: tensor(1.0074)\n",
            "epoch: 33 loss: tensor(1.0078)\n",
            "epoch: 34 loss: tensor(1.0045)\n",
            "epoch: 35 loss: tensor(1.0038)\n",
            "epoch: 36 loss: tensor(1.0000)\n",
            "epoch: 37 loss: tensor(0.9974)\n",
            "epoch: 38 loss: tensor(0.9963)\n",
            "epoch: 39 loss: tensor(0.9949)\n",
            "epoch: 40 loss: tensor(0.9921)\n",
            "epoch: 41 loss: tensor(0.9897)\n",
            "epoch: 42 loss: tensor(0.9872)\n",
            "epoch: 43 loss: tensor(0.9879)\n",
            "epoch: 44 loss: tensor(0.9857)\n",
            "epoch: 45 loss: tensor(0.9872)\n",
            "epoch: 46 loss: tensor(0.9839)\n",
            "epoch: 47 loss: tensor(0.9834)\n",
            "epoch: 48 loss: tensor(0.9783)\n",
            "epoch: 49 loss: tensor(0.9789)\n",
            "epoch: 50 loss: tensor(0.9776)\n",
            "epoch: 51 loss: tensor(0.9761)\n",
            "epoch: 52 loss: tensor(0.9730)\n",
            "epoch: 53 loss: tensor(0.9734)\n",
            "epoch: 54 loss: tensor(0.9686)\n",
            "epoch: 55 loss: tensor(0.9711)\n",
            "epoch: 56 loss: tensor(0.9739)\n",
            "epoch: 57 loss: tensor(0.9770)\n",
            "epoch: 58 loss: tensor(0.9734)\n",
            "epoch: 59 loss: tensor(0.9755)\n",
            "epoch: 60 loss: tensor(0.9725)\n",
            "epoch: 61 loss: tensor(0.9690)\n",
            "epoch: 62 loss: tensor(0.9646)\n",
            "epoch: 63 loss: tensor(0.9648)\n",
            "epoch: 64 loss: tensor(0.9645)\n",
            "epoch: 65 loss: tensor(0.9642)\n",
            "epoch: 66 loss: tensor(0.9571)\n",
            "epoch: 67 loss: tensor(0.9568)\n",
            "epoch: 68 loss: tensor(0.9548)\n",
            "epoch: 69 loss: tensor(0.9553)\n",
            "epoch: 70 loss: tensor(0.9550)\n",
            "epoch: 71 loss: tensor(0.9546)\n",
            "epoch: 72 loss: tensor(0.9538)\n",
            "epoch: 73 loss: tensor(0.9534)\n",
            "epoch: 74 loss: tensor(0.9506)\n",
            "epoch: 75 loss: tensor(0.9510)\n",
            "epoch: 76 loss: tensor(0.9488)\n",
            "epoch: 77 loss: tensor(0.9494)\n",
            "epoch: 78 loss: tensor(0.9462)\n",
            "epoch: 79 loss: tensor(0.9477)\n",
            "epoch: 80 loss: tensor(0.9449)\n",
            "epoch: 81 loss: tensor(0.9465)\n",
            "epoch: 82 loss: tensor(0.9432)\n",
            "epoch: 83 loss: tensor(0.9433)\n",
            "epoch: 84 loss: tensor(0.9406)\n",
            "epoch: 85 loss: tensor(0.9408)\n",
            "epoch: 86 loss: tensor(0.9405)\n",
            "epoch: 87 loss: tensor(0.9405)\n",
            "epoch: 88 loss: tensor(0.9394)\n",
            "epoch: 89 loss: tensor(0.9404)\n",
            "epoch: 90 loss: tensor(0.9384)\n",
            "epoch: 91 loss: tensor(0.9382)\n",
            "epoch: 92 loss: tensor(0.9371)\n",
            "epoch: 93 loss: tensor(0.9370)\n",
            "epoch: 94 loss: tensor(0.9361)\n",
            "epoch: 95 loss: tensor(0.9370)\n",
            "epoch: 96 loss: tensor(0.9356)\n",
            "epoch: 97 loss: tensor(0.9360)\n",
            "epoch: 98 loss: tensor(0.9349)\n",
            "epoch: 99 loss: tensor(0.9352)\n",
            "epoch: 100 loss: tensor(0.9339)\n",
            "epoch: 101 loss: tensor(0.9339)\n",
            "epoch: 102 loss: tensor(0.9336)\n",
            "epoch: 103 loss: tensor(0.9332)\n",
            "epoch: 104 loss: tensor(0.9324)\n",
            "epoch: 105 loss: tensor(0.9328)\n",
            "epoch: 106 loss: tensor(0.9317)\n",
            "epoch: 107 loss: tensor(0.9321)\n",
            "epoch: 108 loss: tensor(0.9311)\n",
            "epoch: 109 loss: tensor(0.9311)\n",
            "epoch: 110 loss: tensor(0.9302)\n",
            "epoch: 111 loss: tensor(0.9303)\n",
            "epoch: 112 loss: tensor(0.9294)\n",
            "epoch: 113 loss: tensor(0.9294)\n",
            "epoch: 114 loss: tensor(0.9284)\n",
            "epoch: 115 loss: tensor(0.9287)\n",
            "epoch: 116 loss: tensor(0.9280)\n",
            "epoch: 117 loss: tensor(0.9281)\n",
            "epoch: 118 loss: tensor(0.9271)\n",
            "epoch: 119 loss: tensor(0.9275)\n",
            "epoch: 120 loss: tensor(0.9263)\n",
            "epoch: 121 loss: tensor(0.9266)\n",
            "epoch: 122 loss: tensor(0.9255)\n",
            "epoch: 123 loss: tensor(0.9260)\n",
            "epoch: 124 loss: tensor(0.9255)\n",
            "epoch: 125 loss: tensor(0.9257)\n",
            "epoch: 126 loss: tensor(0.9246)\n",
            "epoch: 127 loss: tensor(0.9250)\n",
            "epoch: 128 loss: tensor(0.9240)\n",
            "epoch: 129 loss: tensor(0.9249)\n",
            "epoch: 130 loss: tensor(0.9237)\n",
            "epoch: 131 loss: tensor(0.9243)\n",
            "epoch: 132 loss: tensor(0.9230)\n",
            "epoch: 133 loss: tensor(0.9238)\n",
            "epoch: 134 loss: tensor(0.9225)\n",
            "epoch: 135 loss: tensor(0.9231)\n",
            "epoch: 136 loss: tensor(0.9219)\n",
            "epoch: 137 loss: tensor(0.9226)\n",
            "epoch: 138 loss: tensor(0.9216)\n",
            "epoch: 139 loss: tensor(0.9222)\n",
            "epoch: 140 loss: tensor(0.9210)\n",
            "epoch: 141 loss: tensor(0.9216)\n",
            "epoch: 142 loss: tensor(0.9205)\n",
            "epoch: 143 loss: tensor(0.9211)\n",
            "epoch: 144 loss: tensor(0.9200)\n",
            "epoch: 145 loss: tensor(0.9208)\n",
            "epoch: 146 loss: tensor(0.9193)\n",
            "epoch: 147 loss: tensor(0.9201)\n",
            "epoch: 148 loss: tensor(0.9191)\n",
            "epoch: 149 loss: tensor(0.9197)\n",
            "epoch: 150 loss: tensor(0.9189)\n",
            "epoch: 151 loss: tensor(0.9192)\n",
            "epoch: 152 loss: tensor(0.9184)\n",
            "epoch: 153 loss: tensor(0.9188)\n",
            "epoch: 154 loss: tensor(0.9183)\n",
            "epoch: 155 loss: tensor(0.9186)\n",
            "epoch: 156 loss: tensor(0.9179)\n",
            "epoch: 157 loss: tensor(0.9178)\n",
            "epoch: 158 loss: tensor(0.9174)\n",
            "epoch: 159 loss: tensor(0.9176)\n",
            "epoch: 160 loss: tensor(0.9170)\n",
            "epoch: 161 loss: tensor(0.9171)\n",
            "epoch: 162 loss: tensor(0.9165)\n",
            "epoch: 163 loss: tensor(0.9170)\n",
            "epoch: 164 loss: tensor(0.9163)\n",
            "epoch: 165 loss: tensor(0.9165)\n",
            "epoch: 166 loss: tensor(0.9159)\n",
            "epoch: 167 loss: tensor(0.9161)\n",
            "epoch: 168 loss: tensor(0.9158)\n",
            "epoch: 169 loss: tensor(0.9158)\n",
            "epoch: 170 loss: tensor(0.9154)\n",
            "epoch: 171 loss: tensor(0.9156)\n",
            "epoch: 172 loss: tensor(0.9149)\n",
            "epoch: 173 loss: tensor(0.9153)\n",
            "epoch: 174 loss: tensor(0.9145)\n",
            "epoch: 175 loss: tensor(0.9151)\n",
            "epoch: 176 loss: tensor(0.9144)\n",
            "epoch: 177 loss: tensor(0.9147)\n",
            "epoch: 178 loss: tensor(0.9140)\n",
            "epoch: 179 loss: tensor(0.9143)\n",
            "epoch: 180 loss: tensor(0.9135)\n",
            "epoch: 181 loss: tensor(0.9139)\n",
            "epoch: 182 loss: tensor(0.9133)\n",
            "epoch: 183 loss: tensor(0.9137)\n",
            "epoch: 184 loss: tensor(0.9132)\n",
            "epoch: 185 loss: tensor(0.9134)\n",
            "epoch: 186 loss: tensor(0.9127)\n",
            "epoch: 187 loss: tensor(0.9130)\n",
            "epoch: 188 loss: tensor(0.9127)\n",
            "epoch: 189 loss: tensor(0.9127)\n",
            "epoch: 190 loss: tensor(0.9123)\n",
            "epoch: 191 loss: tensor(0.9122)\n",
            "epoch: 192 loss: tensor(0.9120)\n",
            "epoch: 193 loss: tensor(0.9122)\n",
            "epoch: 194 loss: tensor(0.9118)\n",
            "epoch: 195 loss: tensor(0.9119)\n",
            "epoch: 196 loss: tensor(0.9114)\n",
            "epoch: 197 loss: tensor(0.9116)\n",
            "epoch: 198 loss: tensor(0.9112)\n",
            "epoch: 199 loss: tensor(0.9114)\n",
            "epoch: 200 loss: tensor(0.9112)\n"
          ]
        }
      ]
    },
    {
      "cell_type": "markdown",
      "metadata": {
        "id": "Bak5uc8gd-gX"
      },
      "source": [
        "## Testing the SAE\n"
      ]
    },
    {
      "cell_type": "code",
      "source": [
        "test_loss = 0\n",
        "s = 0.\n",
        "for id_user in range(nb_users):\n",
        "  input = Variable(training_set[id_user]).unsqueeze(0)\n",
        "  target = Variable(test_set[id_user]).unsqueeze(0)\n",
        "  if torch.sum(target.data > 0) > 0:\n",
        "    output = sae(input)\n",
        "    target.require_grad = False\n",
        "    output[target == 0] = 0\n",
        "    loss = criterion(output, target)\n",
        "    mean_corrector = nb_movies/float(torch.sum(target.data > 0) + 1e-10)\n",
        "    test_loss += np.sqrt(loss.data * mean_corrector)\n",
        "    s += 1.\n",
        "print(\"test loss: \" + str(test_loss/s))"
      ],
      "metadata": {
        "colab": {
          "base_uri": "https://localhost:8080/"
        },
        "id": "2drpcHMtMA0x",
        "outputId": "71cc2d97-55bf-4ec3-e214-d0146f570d7f"
      },
      "execution_count": 16,
      "outputs": [
        {
          "output_type": "stream",
          "name": "stdout",
          "text": [
            "test loss: tensor(0.9499)\n"
          ]
        }
      ]
    }
  ]
}